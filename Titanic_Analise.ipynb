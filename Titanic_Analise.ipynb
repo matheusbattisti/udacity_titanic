{
 "cells": [
  {
   "cell_type": "code",
   "execution_count": 2,
   "metadata": {},
   "outputs": [
    {
     "data": {
      "text/html": [
       "<div>\n",
       "<style scoped>\n",
       "    .dataframe tbody tr th:only-of-type {\n",
       "        vertical-align: middle;\n",
       "    }\n",
       "\n",
       "    .dataframe tbody tr th {\n",
       "        vertical-align: top;\n",
       "    }\n",
       "\n",
       "    .dataframe thead th {\n",
       "        text-align: right;\n",
       "    }\n",
       "</style>\n",
       "<table border=\"1\" class=\"dataframe\">\n",
       "  <thead>\n",
       "    <tr style=\"text-align: right;\">\n",
       "      <th></th>\n",
       "      <th>PassengerId</th>\n",
       "      <th>Survived</th>\n",
       "      <th>Pclass</th>\n",
       "      <th>Name</th>\n",
       "      <th>Sex</th>\n",
       "      <th>Age</th>\n",
       "      <th>SibSp</th>\n",
       "      <th>Parch</th>\n",
       "      <th>Ticket</th>\n",
       "      <th>Fare</th>\n",
       "      <th>Cabin</th>\n",
       "      <th>Embarked</th>\n",
       "    </tr>\n",
       "  </thead>\n",
       "  <tbody>\n",
       "    <tr>\n",
       "      <th>0</th>\n",
       "      <td>1</td>\n",
       "      <td>0</td>\n",
       "      <td>3</td>\n",
       "      <td>Braund, Mr. Owen Harris</td>\n",
       "      <td>male</td>\n",
       "      <td>22.0</td>\n",
       "      <td>1</td>\n",
       "      <td>0</td>\n",
       "      <td>A/5 21171</td>\n",
       "      <td>7.2500</td>\n",
       "      <td>NaN</td>\n",
       "      <td>S</td>\n",
       "    </tr>\n",
       "    <tr>\n",
       "      <th>1</th>\n",
       "      <td>2</td>\n",
       "      <td>1</td>\n",
       "      <td>1</td>\n",
       "      <td>Cumings, Mrs. John Bradley (Florence Briggs Th...</td>\n",
       "      <td>female</td>\n",
       "      <td>38.0</td>\n",
       "      <td>1</td>\n",
       "      <td>0</td>\n",
       "      <td>PC 17599</td>\n",
       "      <td>71.2833</td>\n",
       "      <td>C85</td>\n",
       "      <td>C</td>\n",
       "    </tr>\n",
       "    <tr>\n",
       "      <th>2</th>\n",
       "      <td>3</td>\n",
       "      <td>1</td>\n",
       "      <td>3</td>\n",
       "      <td>Heikkinen, Miss. Laina</td>\n",
       "      <td>female</td>\n",
       "      <td>26.0</td>\n",
       "      <td>0</td>\n",
       "      <td>0</td>\n",
       "      <td>STON/O2. 3101282</td>\n",
       "      <td>7.9250</td>\n",
       "      <td>NaN</td>\n",
       "      <td>S</td>\n",
       "    </tr>\n",
       "    <tr>\n",
       "      <th>3</th>\n",
       "      <td>4</td>\n",
       "      <td>1</td>\n",
       "      <td>1</td>\n",
       "      <td>Futrelle, Mrs. Jacques Heath (Lily May Peel)</td>\n",
       "      <td>female</td>\n",
       "      <td>35.0</td>\n",
       "      <td>1</td>\n",
       "      <td>0</td>\n",
       "      <td>113803</td>\n",
       "      <td>53.1000</td>\n",
       "      <td>C123</td>\n",
       "      <td>S</td>\n",
       "    </tr>\n",
       "    <tr>\n",
       "      <th>4</th>\n",
       "      <td>5</td>\n",
       "      <td>0</td>\n",
       "      <td>3</td>\n",
       "      <td>Allen, Mr. William Henry</td>\n",
       "      <td>male</td>\n",
       "      <td>35.0</td>\n",
       "      <td>0</td>\n",
       "      <td>0</td>\n",
       "      <td>373450</td>\n",
       "      <td>8.0500</td>\n",
       "      <td>NaN</td>\n",
       "      <td>S</td>\n",
       "    </tr>\n",
       "  </tbody>\n",
       "</table>\n",
       "</div>"
      ],
      "text/plain": [
       "   PassengerId  Survived  Pclass  \\\n",
       "0            1         0       3   \n",
       "1            2         1       1   \n",
       "2            3         1       3   \n",
       "3            4         1       1   \n",
       "4            5         0       3   \n",
       "\n",
       "                                                Name     Sex   Age  SibSp  \\\n",
       "0                            Braund, Mr. Owen Harris    male  22.0      1   \n",
       "1  Cumings, Mrs. John Bradley (Florence Briggs Th...  female  38.0      1   \n",
       "2                             Heikkinen, Miss. Laina  female  26.0      0   \n",
       "3       Futrelle, Mrs. Jacques Heath (Lily May Peel)  female  35.0      1   \n",
       "4                           Allen, Mr. William Henry    male  35.0      0   \n",
       "\n",
       "   Parch            Ticket     Fare Cabin Embarked  \n",
       "0      0         A/5 21171   7.2500   NaN        S  \n",
       "1      0          PC 17599  71.2833   C85        C  \n",
       "2      0  STON/O2. 3101282   7.9250   NaN        S  \n",
       "3      0            113803  53.1000  C123        S  \n",
       "4      0            373450   8.0500   NaN        S  "
      ]
     },
     "execution_count": 2,
     "metadata": {},
     "output_type": "execute_result"
    }
   ],
   "source": [
    "# Importando bibliotecas\n",
    "import pandas as pd\n",
    "import numpy as np\n",
    "import math\n",
    "import matplotlib.pyplot as plt\n",
    "\n",
    "%matplotlib inline\n",
    "\n",
    "# Lendo arquivo de dados do Titanic\n",
    "df = pd.read_csv('titanic-data-6.csv')\n",
    "\n",
    "# Testando se a importação ocorreu bem\n",
    "df.head()"
   ]
  },
  {
   "cell_type": "markdown",
   "metadata": {},
   "source": [
    "# Limpeza de dados:\n",
    "\n",
    "# Como vou utilizar a idade na minha análise, vou substituir os valores nulos pela média de idade total\n",
    "\n",
    "# O mesmo irá acontecer com o Fare, vou retirar as tarifas gratuitas considerando que foi um erro de cadastramento / falta de dados"
   ]
  },
  {
   "cell_type": "code",
   "execution_count": 3,
   "metadata": {},
   "outputs": [
    {
     "name": "stdout",
     "output_type": "stream",
     "text": [
      "A média de idade é de 29 anos\n"
     ]
    }
   ],
   "source": [
    "# Calculando a media de idade, e arredondano para baixo com floor\n",
    "mediaIdade = math.floor(df['Age'].mean())\n",
    "\n",
    "print('A média de idade é de %d anos' % mediaIdade)"
   ]
  },
  {
   "cell_type": "code",
   "execution_count": 4,
   "metadata": {},
   "outputs": [
    {
     "name": "stdout",
     "output_type": "stream",
     "text": [
      "Há 177 dados faltantes na coluna de idade.\n"
     ]
    }
   ],
   "source": [
    "# Verificando Nan na coluna Age\n",
    "dfIsNull = df.isnull().sum()\n",
    "\n",
    "print('Há %d dados faltantes na coluna de idade.' % dfIsNull.Age)"
   ]
  },
  {
   "cell_type": "code",
   "execution_count": 5,
   "metadata": {},
   "outputs": [
    {
     "name": "stdout",
     "output_type": "stream",
     "text": [
      "Agora há 0 dados faltantes na coluna de idade.\n"
     ]
    }
   ],
   "source": [
    "# Substituindo as celulas de idade nulas\n",
    "df['Age'] = df['Age'].fillna(mediaIdade)\n",
    "\n",
    "dfIsNull = df.isnull().sum()\n",
    "\n",
    "print('Agora há %d dados faltantes na coluna de idade.' % dfIsNull.Age)"
   ]
  },
  {
   "cell_type": "code",
   "execution_count": 6,
   "metadata": {},
   "outputs": [
    {
     "name": "stdout",
     "output_type": "stream",
     "text": [
      "A média de Fare é de 32 dólares (supondo que foi cobrado em dólar)\n"
     ]
    }
   ],
   "source": [
    "# Calculando a media de Fare (taxas), e arredondano para baixo com floor\n",
    "mediaFare = math.floor(df['Fare'].mean())\n",
    "\n",
    "print('A média de Fare é de %d dólares (supondo que foi cobrado em dólar)' % mediaFare)"
   ]
  },
  {
   "cell_type": "code",
   "execution_count": 7,
   "metadata": {},
   "outputs": [
    {
     "name": "stdout",
     "output_type": "stream",
     "text": [
      "Há 15 passagens com valor zerado\n"
     ]
    }
   ],
   "source": [
    "# Verificando valores zerados na coluna Fare\n",
    "dfIsZero = (df['Fare'] == 0).sum()\n",
    "\n",
    "print('Há %d passagens com valor zerado' % dfIsZero)"
   ]
  },
  {
   "cell_type": "code",
   "execution_count": 8,
   "metadata": {},
   "outputs": [
    {
     "name": "stdout",
     "output_type": "stream",
     "text": [
      "Agora há 0 dados zerados na coluna tarifas.\n"
     ]
    }
   ],
   "source": [
    "# Substituindo as celulas de Fare zeradas\n",
    "df['Fare'] = df['Fare'].replace(0, mediaFare)\n",
    "\n",
    "dfIsZero = (df['Fare'] == 0).sum()\n",
    "\n",
    "print('Agora há %d dados zerados na coluna tarifas.' % dfIsZero)"
   ]
  },
  {
   "cell_type": "markdown",
   "metadata": {},
   "source": [
    "# Agora que resolvemos os problemas nos dados, vamos para a análise!"
   ]
  },
  {
   "cell_type": "markdown",
   "metadata": {},
   "source": [
    "# Vamos analisar os dados do Titanic com algumas perguntas\n",
    "\n",
    "# 1 - Qual a quantidade de homens e mulheres no Titanic?"
   ]
  },
  {
   "cell_type": "code",
   "execution_count": 9,
   "metadata": {},
   "outputs": [
    {
     "name": "stdout",
     "output_type": "stream",
     "text": [
      "De acordo com estes dados o titanic tinha 577 pessoas do sexo masculino e 314 do sexo feminino.\n"
     ]
    }
   ],
   "source": [
    "male = (df['Sex'] == 'male').sum()\n",
    "\n",
    "female = (df['Sex'] == 'female').sum()\n",
    "\n",
    "print(\"De acordo com estes dados o titanic tinha %d pessoas do sexo masculino e %d do sexo feminino.\" % (male, female))"
   ]
  },
  {
   "cell_type": "markdown",
   "metadata": {},
   "source": [
    "# Vemos que há mais homens que mulheres no navio."
   ]
  },
  {
   "cell_type": "markdown",
   "metadata": {},
   "source": [
    "# 2 - Qual a media de idade dos homens e das mulheres?"
   ]
  },
  {
   "cell_type": "code",
   "execution_count": 10,
   "metadata": {},
   "outputs": [
    {
     "name": "stdout",
     "output_type": "stream",
     "text": [
      "A média de idade dos homens no Titanic é de 30 anos e das mulheres é de 28 anos.\n"
     ]
    }
   ],
   "source": [
    "# Formando novos dataframes a partir do sexo\n",
    "male_df = df.loc[df['Sex'] == 'male']\n",
    "female_df = df.loc[df['Sex'] == 'female']\n",
    "\n",
    "# Calulando as medias dos dois grupos\n",
    "media_male = math.floor(male_df['Age'].sum() / male)\n",
    "media_female = math.floor(female_df['Age'].sum() / female)\n",
    "\n",
    "print(\"A média de idade dos homens no Titanic é de %d anos e das mulheres é de %d anos.\" % (media_male, media_female))"
   ]
  },
  {
   "cell_type": "markdown",
   "metadata": {},
   "source": [
    "# As mulheres são mais novas que os homens!"
   ]
  },
  {
   "cell_type": "markdown",
   "metadata": {},
   "source": [
    "# Vamos verificar agora a distribuição entre as classes socioeconomicas do Titanic\n",
    "\n",
    "# 3 - Qual a classe que tem mais ingressantes?"
   ]
  },
  {
   "cell_type": "code",
   "execution_count": 11,
   "metadata": {},
   "outputs": [
    {
     "name": "stdout",
     "output_type": "stream",
     "text": [
      "A primeira classe tinha 216 passageiros, a segunda 184 e por fim a terceira 491\n"
     ]
    }
   ],
   "source": [
    "firstClass  = df.loc[df['Pclass'] == 1]\n",
    "secondClass = df.loc[df['Pclass'] == 2]\n",
    "thirdClass  = df.loc[df['Pclass'] == 3]\n",
    "\n",
    "print(\"A primeira classe tinha %d passageiros, a segunda %d e por fim a terceira %d\" % (len(firstClass), len(secondClass), len(thirdClass)))"
   ]
  },
  {
   "cell_type": "markdown",
   "metadata": {},
   "source": [
    "# A classe mais ecônomica, foi a mais populada\n",
    "\n",
    "# 4 - Qual é o preço do ticket mais caro e do mais barato?"
   ]
  },
  {
   "cell_type": "code",
   "execution_count": 12,
   "metadata": {},
   "outputs": [
    {
     "name": "stdout",
     "output_type": "stream",
     "text": [
      "A tarifa mais cara foi de $512 e a mais barata de $4 dólares\n"
     ]
    }
   ],
   "source": [
    "highestFare = df['Fare'].max()\n",
    "minimumFare = df['Fare'].min()\n",
    "\n",
    "print('A tarifa mais cara foi de $%d e a mais barata de $%d dólares' % (highestFare, minimumFare))"
   ]
  },
  {
   "cell_type": "markdown",
   "metadata": {},
   "source": [
    "# Vamos analisar agora a questão de sobrevivência, quais foram os fatores que mais fizeram os tripulantes sobreviver\n",
    "\n",
    "# 5 - Quais os fatores que mais fizeram as pessoas sobreviverem?\n",
    "\n",
    "# 5.1 - Verificando pela classe:"
   ]
  },
  {
   "cell_type": "code",
   "execution_count": 13,
   "metadata": {},
   "outputs": [
    {
     "data": {
      "image/png": "[encoded data removed]",
      "text/plain": [
       "<matplotlib.figure.Figure at 0x13733620710>"
      ]
     },
     "metadata": {},
     "output_type": "display_data"
    }
   ],
   "source": [
    "\n",
    "firstClassSurv = df.loc[(df['Pclass'] == 1) & df['Survived'] == 1]\n",
    "secondClassSurv = df.loc[(df['Pclass'] == 2) & df['Survived'] == 1]\n",
    "thirdClassSurv = df.loc[(df['Pclass'] == 3) & df['Survived'] == 1]\n",
    "\n",
    "locations = [1, 2, 3]\n",
    "heights = [len(firstClassSurv), len(secondClassSurv), len(thirdClassSurv)]\n",
    "labels = ['1ª Classe', '2ª Classe', '3ª Classe']\n",
    "plt.bar(locations, heights, tick_label=labels)\n",
    "plt.title('Sobreviventes')\n",
    "plt.xlabel('Classes de passageiros')\n",
    "plt.ylabel('Sobreviventes');"
   ]
  },
  {
   "cell_type": "markdown",
   "metadata": {},
   "source": [
    "# Podemos verificar que o fato do passageiro ser da primeira classe ajudou na sua sobrevivência, \n",
    "\n",
    "# Porem a segunda classe não manteve esta lógica, pois a terceira teve mais sobreviventes\n",
    "\n",
    "# Será que isso está correto? Vamos comparar com o total de tripulantes de cada classe"
   ]
  },
  {
   "cell_type": "code",
   "execution_count": 14,
   "metadata": {},
   "outputs": [
    {
     "data": {
      "text/plain": [
       "<matplotlib.legend.Legend at 0x13733668390>"
      ]
     },
     "execution_count": 14,
     "metadata": {},
     "output_type": "execute_result"
    },
    {
     "data": {
      "image/png": "[encoded data removed]",
      "text/plain": [
       "<matplotlib.figure.Figure at 0x1373367d6a0>"
      ]
     },
     "metadata": {},
     "output_type": "display_data"
    }
   ],
   "source": [
    "locations = [1, 2, 3]\n",
    "\n",
    "classes = [len(firstClass), len(secondClass), len(thirdClass)]\n",
    "plt.bar(locations, classes, tick_label=labels, label='Total')\n",
    "\n",
    "classes = [len(firstClassSurv), len(secondClassSurv), len(thirdClassSurv)]\n",
    "labels = ['1ª Classe', '2ª Classe', '3ª Classe']\n",
    "\n",
    "plt.bar(locations, classes, tick_label=labels, label='Sobreviventes')\n",
    "plt.title('Sobreviventes x Passageiros')\n",
    "plt.xlabel('Classes de passageiros')\n",
    "plt.ylabel('Sobreviventes')\n",
    "plt.legend()"
   ]
  },
  {
   "cell_type": "markdown",
   "metadata": {},
   "source": [
    "# Temos uma surpresa, na verdade por questões de proporção a segunda classe sobreviveu mais sim que a terceira,\n",
    "\n",
    "# Apenas por sua quantidade maior a terceira tem mais sobreviventes,\n",
    "\n",
    "# Agora podemos afirmar que a classe determinou sim quem sobreviveu!\n",
    "\n",
    "# 5.2 - O local onde embarcaram pode ter influenciado na sobrevivência?"
   ]
  },
  {
   "cell_type": "code",
   "execution_count": 15,
   "metadata": {},
   "outputs": [
    {
     "data": {
      "image/png": "[encoded data removed]",
      "text/plain": [
       "<matplotlib.figure.Figure at 0x137336204a8>"
      ]
     },
     "metadata": {},
     "output_type": "display_data"
    }
   ],
   "source": [
    "cherbourgSurv = df.loc[(df['Embarked'] == 'C') & df['Survived'] == 1]\n",
    "queenstownSurv = df.loc[(df['Embarked'] == 'Q') & df['Survived'] == 1]\n",
    "southamptonSurv = df.loc[(df['Embarked'] == 'S') & df['Survived'] == 1]\n",
    "\n",
    "locations = [1, 2, 3]\n",
    "heights = [len(cherbourgSurv), len(queenstownSurv), len(southamptonSurv)]\n",
    "labels = ['Cherbourg', 'Queenstown', 'Southampton']\n",
    "plt.bar(locations, heights, tick_label=labels)\n",
    "plt.title('Sobreviventes')\n",
    "plt.xlabel('Cidade de embarque')\n",
    "plt.ylabel('Sobreviventes');"
   ]
  },
  {
   "cell_type": "markdown",
   "metadata": {},
   "source": [
    "# Agora diferente dos outros, uma grande disparidade dos sobreviventes foi de Southampton,\n",
    "\n",
    "# Vamos ver se há relação com o número de pessoas que embarcaram nos locais:"
   ]
  },
  {
   "cell_type": "code",
   "execution_count": 16,
   "metadata": {},
   "outputs": [
    {
     "data": {
      "text/plain": [
       "<matplotlib.legend.Legend at 0x1373360ccc0>"
      ]
     },
     "execution_count": 16,
     "metadata": {},
     "output_type": "execute_result"
    },
    {
     "data": {
      "image/png": "[encoded data removed]",
      "text/plain": [
       "<matplotlib.figure.Figure at 0x1373373a7f0>"
      ]
     },
     "metadata": {},
     "output_type": "display_data"
    }
   ],
   "source": [
    "cherbourg = df.loc[(df['Embarked'] == 'C')]\n",
    "queenstown = df.loc[(df['Embarked'] == 'Q')]\n",
    "southampton = df.loc[(df['Embarked'] == 'S')]\n",
    "\n",
    "locations = [1, 2, 3]\n",
    "\n",
    "classes = [len(cherbourg), len(queenstown), len(southampton)]\n",
    "plt.bar(locations, classes, tick_label=labels, label='Total')\n",
    "\n",
    "classes = [len(cherbourgSurv), len(queenstownSurv), len(southamptonSurv)]\n",
    "labels = ['Cherbourg', 'Queenstown', 'Southampton']\n",
    "\n",
    "plt.bar(locations, classes, tick_label=labels, label='Sobreviventes')\n",
    "plt.title('Sobreviventes x Passageiros')\n",
    "plt.xlabel('Cidade de embarque')\n",
    "plt.ylabel('Sobreviventes')\n",
    "plt.legend()"
   ]
  },
  {
   "cell_type": "markdown",
   "metadata": {},
   "source": [
    "# Vamos verificar a distribuição de classes na região de Southampton: "
   ]
  },
  {
   "cell_type": "code",
   "execution_count": 17,
   "metadata": {},
   "outputs": [
    {
     "data": {
      "image/png": "[encoded data removed]",
      "text/plain": [
       "<matplotlib.figure.Figure at 0x137337944a8>"
      ]
     },
     "metadata": {},
     "output_type": "display_data"
    }
   ],
   "source": [
    "firstClassSouthAmpton = df.loc[(df['Pclass'] == 1) & (df['Embarked'] == 'S')]\n",
    "secondClassSouthAmpton = df.loc[(df['Pclass'] == 2) & (df['Embarked'] == 'S')]\n",
    "thirdClassSouthAmpton = df.loc[(df['Pclass'] == 3) & (df['Embarked'] == 'S')]\n",
    "\n",
    "locations = [1, 2, 3]\n",
    "heights = [len(firstClassSouthAmpton), len(secondClassSouthAmpton), len(thirdClassSouthAmpton)]\n",
    "labels = ['1ª Classe', '2ª Classe', '3ª Classe']\n",
    "plt.bar(locations, heights, tick_label=labels)\n",
    "plt.title('Quantidade de pessoas')\n",
    "plt.xlabel('Classes de passageiros de Southampton')\n",
    "plt.ylabel('Sobreviventes');"
   ]
  },
  {
   "cell_type": "markdown",
   "metadata": {},
   "source": [
    "# Como a classe 3 tem mais população e sobreviveram menos, proporcionalmente, as pessoas que embarcaram em Southampton, temos uma relação de classe x sobrevivência, tambem entre cidades\n",
    "\n",
    "# Só falta verificar a proprorção de sobreviventes entre as classes de Southampton, vamos ver agora:"
   ]
  },
  {
   "cell_type": "code",
   "execution_count": 23,
   "metadata": {},
   "outputs": [
    {
     "data": {
      "text/plain": [
       "<matplotlib.legend.Legend at 0x13734902358>"
      ]
     },
     "execution_count": 23,
     "metadata": {},
     "output_type": "execute_result"
    },
    {
     "data": {
      "image/png": "[encoded data removed]",
      "text/plain": [
       "<matplotlib.figure.Figure at 0x13734902080>"
      ]
     },
     "metadata": {},
     "output_type": "display_data"
    }
   ],
   "source": [
    "firstClassSouthAmptonSurv = df.loc[(df['Pclass'] == 1) & (df['Embarked'] == 'S') & df['Survived'] == 1]\n",
    "secondClassSouthAmptonSurv = df.loc[(df['Pclass'] == 2) & (df['Embarked'] == 'S') & df['Survived'] == 1]\n",
    "thirdClassSouthAmptonSurv = df.loc[(df['Pclass'] == 3) & (df['Embarked'] == 'S') & df['Survived'] == 1]\n",
    "\n",
    "locations = [1, 2, 3]\n",
    "\n",
    "heights = [len(firstClassSouthAmpton), len(secondClassSouthAmpton), len(thirdClassSouthAmpton)]\n",
    "plt.bar(locations, heights, tick_label=labels, label='Total')\n",
    "\n",
    "classes = [len(firstClassSouthAmptonSurv), len(secondClassSouthAmptonSurv), len(thirdClassSouthAmptonSurv)]\n",
    "labels = ['1ª Classe', '2ª Classe', '3ª Classe']\n",
    "\n",
    "plt.bar(locations, classes, tick_label=labels, label='Sobreviventes')\n",
    "plt.title('Sobreviventes x Passageiros de Southampton')\n",
    "plt.xlabel('Sobreviventes')\n",
    "plt.ylabel('Total tripulantes')\n",
    "plt.legend()"
   ]
  },
  {
   "cell_type": "code",
   "execution_count": null,
   "metadata": {},
   "outputs": [],
   "source": []
  }
 ],
 "metadata": {
  "kernelspec": {
   "display_name": "Python 3",
   "language": "python",
   "name": "python3"
  },
  "language_info": {
   "codemirror_mode": {
    "name": "ipython",
    "version": 3
   },
   "file_extension": ".py",
   "mimetype": "text/x-python",
   "name": "python",
   "nbconvert_exporter": "python",
   "pygments_lexer": "ipython3",
   "version": "3.6.4"
  }
 },
 "nbformat": 4,
 "nbformat_minor": 2
}
