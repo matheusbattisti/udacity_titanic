{
 "cells": [
  {
   "cell_type": "markdown",
   "metadata": {},
   "source": [
    "# Introdução\n",
    "\n",
    "### Análise do dataset do Titanic:\n",
    "\n",
    "Este relatório pretende analisar os dados do Titanic, fazendo algumas perguntas que podem desvendar curiosidades dos leitores, porém tem como objetivo principal ver quais dados foram determinantes para a sobrevivência dos tripulantes.\n",
    "\n",
    "### As perguntas são:\n",
    "\n",
    "1 - Qual a quantidade de homens e mulheres no Titanic?\n",
    "\n",
    "2 - Qual a media de idade dos homens e das mulheres?\n",
    "\n",
    "3 - Qual a classe de passageiros tem mais integrantes?\n",
    "\n",
    "4 - Qual é o preço do ticket mais caro e do mais barato?\n",
    "\n",
    "\n",
    "### Analisando o quesito sobrevivência:\n",
    "\n",
    "5 - Quais os fatores que mais fizeram as pessoas sobreviverem?\n",
    "\n",
    "5.1 - A classe influenciou na sobrevivência?\n",
    "\n",
    "5.2 - O local onde embarcaram pode ter influenciado na sobrevivência?\n",
    "\n",
    "5.3 - A idade dos passageiros influenciou na sobrevivência deles?\n",
    "\n",
    "5.4 - para finalizar, o sexo influenciou na sobrevivência dos tripulantes?\n",
    "\n",
    "\n",
    "### Analisando o preço de passagem\n",
    "\n",
    "6 - O preço de passagem aumenta de acordo com a idade?\n"
   ]
  },
  {
   "cell_type": "code",
   "execution_count": 48,
   "metadata": {
    "scrolled": true
   },
   "outputs": [
    {
     "data": {
      "text/html": [
       "<div>\n",
       "<style scoped>\n",
       "    .dataframe tbody tr th:only-of-type {\n",
       "        vertical-align: middle;\n",
       "    }\n",
       "\n",
       "    .dataframe tbody tr th {\n",
       "        vertical-align: top;\n",
       "    }\n",
       "\n",
       "    .dataframe thead th {\n",
       "        text-align: right;\n",
       "    }\n",
       "</style>\n",
       "<table border=\"1\" class=\"dataframe\">\n",
       "  <thead>\n",
       "    <tr style=\"text-align: right;\">\n",
       "      <th></th>\n",
       "      <th>PassengerId</th>\n",
       "      <th>Survived</th>\n",
       "      <th>Pclass</th>\n",
       "      <th>Name</th>\n",
       "      <th>Sex</th>\n",
       "      <th>Age</th>\n",
       "      <th>SibSp</th>\n",
       "      <th>Parch</th>\n",
       "      <th>Ticket</th>\n",
       "      <th>Fare</th>\n",
       "      <th>Cabin</th>\n",
       "      <th>Embarked</th>\n",
       "    </tr>\n",
       "  </thead>\n",
       "  <tbody>\n",
       "    <tr>\n",
       "      <th>0</th>\n",
       "      <td>1</td>\n",
       "      <td>0</td>\n",
       "      <td>3</td>\n",
       "      <td>Braund, Mr. Owen Harris</td>\n",
       "      <td>male</td>\n",
       "      <td>22.0</td>\n",
       "      <td>1</td>\n",
       "      <td>0</td>\n",
       "      <td>A/5 21171</td>\n",
       "      <td>7.2500</td>\n",
       "      <td>NaN</td>\n",
       "      <td>S</td>\n",
       "    </tr>\n",
       "    <tr>\n",
       "      <th>1</th>\n",
       "      <td>2</td>\n",
       "      <td>1</td>\n",
       "      <td>1</td>\n",
       "      <td>Cumings, Mrs. John Bradley (Florence Briggs Th...</td>\n",
       "      <td>female</td>\n",
       "      <td>38.0</td>\n",
       "      <td>1</td>\n",
       "      <td>0</td>\n",
       "      <td>PC 17599</td>\n",
       "      <td>71.2833</td>\n",
       "      <td>C85</td>\n",
       "      <td>C</td>\n",
       "    </tr>\n",
       "    <tr>\n",
       "      <th>2</th>\n",
       "      <td>3</td>\n",
       "      <td>1</td>\n",
       "      <td>3</td>\n",
       "      <td>Heikkinen, Miss. Laina</td>\n",
       "      <td>female</td>\n",
       "      <td>26.0</td>\n",
       "      <td>0</td>\n",
       "      <td>0</td>\n",
       "      <td>STON/O2. 3101282</td>\n",
       "      <td>7.9250</td>\n",
       "      <td>NaN</td>\n",
       "      <td>S</td>\n",
       "    </tr>\n",
       "    <tr>\n",
       "      <th>3</th>\n",
       "      <td>4</td>\n",
       "      <td>1</td>\n",
       "      <td>1</td>\n",
       "      <td>Futrelle, Mrs. Jacques Heath (Lily May Peel)</td>\n",
       "      <td>female</td>\n",
       "      <td>35.0</td>\n",
       "      <td>1</td>\n",
       "      <td>0</td>\n",
       "      <td>113803</td>\n",
       "      <td>53.1000</td>\n",
       "      <td>C123</td>\n",
       "      <td>S</td>\n",
       "    </tr>\n",
       "    <tr>\n",
       "      <th>4</th>\n",
       "      <td>5</td>\n",
       "      <td>0</td>\n",
       "      <td>3</td>\n",
       "      <td>Allen, Mr. William Henry</td>\n",
       "      <td>male</td>\n",
       "      <td>35.0</td>\n",
       "      <td>0</td>\n",
       "      <td>0</td>\n",
       "      <td>373450</td>\n",
       "      <td>8.0500</td>\n",
       "      <td>NaN</td>\n",
       "      <td>S</td>\n",
       "    </tr>\n",
       "  </tbody>\n",
       "</table>\n",
       "</div>"
      ],
      "text/plain": [
       "   PassengerId  Survived  Pclass  \\\n",
       "0            1         0       3   \n",
       "1            2         1       1   \n",
       "2            3         1       3   \n",
       "3            4         1       1   \n",
       "4            5         0       3   \n",
       "\n",
       "                                                Name     Sex   Age  SibSp  \\\n",
       "0                            Braund, Mr. Owen Harris    male  22.0      1   \n",
       "1  Cumings, Mrs. John Bradley (Florence Briggs Th...  female  38.0      1   \n",
       "2                             Heikkinen, Miss. Laina  female  26.0      0   \n",
       "3       Futrelle, Mrs. Jacques Heath (Lily May Peel)  female  35.0      1   \n",
       "4                           Allen, Mr. William Henry    male  35.0      0   \n",
       "\n",
       "   Parch            Ticket     Fare Cabin Embarked  \n",
       "0      0         A/5 21171   7.2500   NaN        S  \n",
       "1      0          PC 17599  71.2833   C85        C  \n",
       "2      0  STON/O2. 3101282   7.9250   NaN        S  \n",
       "3      0            113803  53.1000  C123        S  \n",
       "4      0            373450   8.0500   NaN        S  "
      ]
     },
     "execution_count": 48,
     "metadata": {},
     "output_type": "execute_result"
    }
   ],
   "source": [
    "# Importando bibliotecas\n",
    "import pandas as pd\n",
    "import numpy as np\n",
    "import math\n",
    "import matplotlib.pyplot as plt\n",
    "\n",
    "%matplotlib inline\n",
    "\n",
    "# Lendo arquivo de dados do Titanic\n",
    "df = pd.read_csv('titanic-data-6.csv')\n",
    "\n",
    "# Testando se a importação ocorreu bem\n",
    "df.head()"
   ]
  },
  {
   "cell_type": "markdown",
   "metadata": {},
   "source": [
    "## Limpeza de dados:\n",
    "\n",
    "Como vou utilizar a idade na minha análise, vou substituir os valores nulos pela média de idade total\n",
    "\n",
    "O mesmo irá acontecer com o Fare, vou retirar as tarifas gratuitas considerando que foi um erro de cadastramento / falta de dados"
   ]
  },
  {
   "cell_type": "code",
   "execution_count": 49,
   "metadata": {},
   "outputs": [],
   "source": [
    "# Funções de ajuste de dados\n",
    "\n",
    "# Função que ajusta colunas que contenham dados nulos, com a media dos valores da coluna escolhida\n",
    "def ajusteColunaComMedia(df, column):\n",
    "    # Calculando a media da coluna escolhida no segundo arg, e arredondano para baixo com floor\n",
    "    mediaColumn = math.floor(df[column].mean())\n",
    "    \n",
    "    # Substituindo as celulas nulas da coluna\n",
    "    df[column] = df[column].fillna(mediaColumn)\n",
    "    \n",
    "#Função que ajusta colunas que contenham valores zerados, com a media dos valores da coluna escolhida\n",
    "def ajusteColunaDeValoresZerados(df, column):\n",
    "    \n",
    "    # Calculando a media da coluna escolhida no segundo arg, e arredondano para baixo com floor\n",
    "    mediaColumn = math.floor(df[column].mean())\n",
    "    \n",
    "    # Substituindo as celulas zeradas, pela media calculada\n",
    "    df[column] = df[column].replace(0, mediaColumn)\n"
   ]
  },
  {
   "cell_type": "code",
   "execution_count": 50,
   "metadata": {},
   "outputs": [
    {
     "name": "stdout",
     "output_type": "stream",
     "text": [
      "Há 177 dados faltantes na coluna de idade.\n"
     ]
    }
   ],
   "source": [
    "# Verificando Nan na coluna Age\n",
    "dfIsNull = df.isnull().sum()\n",
    "\n",
    "print('Há %d dados faltantes na coluna de idade.' % dfIsNull.Age)"
   ]
  },
  {
   "cell_type": "code",
   "execution_count": 51,
   "metadata": {},
   "outputs": [
    {
     "name": "stdout",
     "output_type": "stream",
     "text": [
      "Agora há 0 dados faltantes na coluna de idade.\n"
     ]
    }
   ],
   "source": [
    "# utilizando a função ajusteColunaComMedia para substituir os valores de idade faltante, pela média\n",
    "ajusteColunaComMedia(df, 'Age')\n",
    "\n",
    "\n",
    "dfIsNull = df.isnull().sum()\n",
    "\n",
    "print('Agora há %d dados faltantes na coluna de idade.' % dfIsNull.Age)"
   ]
  },
  {
   "cell_type": "code",
   "execution_count": 52,
   "metadata": {},
   "outputs": [
    {
     "name": "stdout",
     "output_type": "stream",
     "text": [
      "A média de Fare é de 32 dólares (supondo que foi cobrado em dólar)\n"
     ]
    }
   ],
   "source": [
    "# Calculando a media de Fare (taxas), e arredondano para baixo com floor\n",
    "mediaFare = math.floor(df['Fare'].mean())\n",
    "\n",
    "print('A média de Fare é de %d dólares (supondo que foi cobrado em dólar)' % mediaFare)"
   ]
  },
  {
   "cell_type": "code",
   "execution_count": 53,
   "metadata": {},
   "outputs": [
    {
     "name": "stdout",
     "output_type": "stream",
     "text": [
      "Há 15 passagens com valor zerado\n"
     ]
    }
   ],
   "source": [
    "# Verificando valores zerados na coluna Fare\n",
    "dfIsZero = (df['Fare'] == 0).sum()\n",
    "\n",
    "print('Há %d passagens com valor zerado' % dfIsZero)"
   ]
  },
  {
   "cell_type": "code",
   "execution_count": 54,
   "metadata": {},
   "outputs": [
    {
     "name": "stdout",
     "output_type": "stream",
     "text": [
      "Agora há 0 dados zerados na coluna tarifas.\n"
     ]
    }
   ],
   "source": [
    "# Substituindo as celulas de Fare zeradas\n",
    "ajusteColunaDeValoresZerados(df, 'Fare')\n",
    "\n",
    "dfIsZero = (df['Fare'] == 0).sum()\n",
    "\n",
    "print('Agora há %d dados zerados na coluna tarifas.' % dfIsZero)"
   ]
  },
  {
   "cell_type": "markdown",
   "metadata": {},
   "source": [
    "## Resumo da limpeza de dados\n",
    "\n",
    "### Idade:\n",
    "\n",
    "1 - Primeiramente calculamos a média para saber com o que prenencher as idades faltantes\n",
    "2 - Verificamos a quantidade de valores faltantes\n",
    "3 - Preenchemos com o metodo fillna() os dados faltantes na coluna Age\n",
    "\n",
    "### Taxa:\n",
    "\n",
    "1 - Novamente calculamos a média de taxa, e arrendodamos para baixo com o método floor() da lib Math\n",
    "2 - Contagem dos valores zerados\n",
    "3 - Substituições dos valores zerados pela média\n",
    "\n",
    "E com isso os dados estão preparados para responder as perguntas que seguem a análise.\n"
   ]
  },
  {
   "cell_type": "markdown",
   "metadata": {},
   "source": [
    "### Agora que resolvemos os problemas nos dados, vamos para a análise!"
   ]
  },
  {
   "cell_type": "markdown",
   "metadata": {},
   "source": [
    "Vamos analisar os dados do Titanic com algumas perguntas\n",
    "\n",
    "## 1 - Qual a quantidade de homens e mulheres no Titanic?"
   ]
  },
  {
   "cell_type": "code",
   "execution_count": 55,
   "metadata": {},
   "outputs": [
    {
     "name": "stdout",
     "output_type": "stream",
     "text": [
      "De acordo com estes dados o titanic tinha 577 pessoas do sexo masculino e 314 do sexo feminino.\n"
     ]
    }
   ],
   "source": [
    "male = (df['Sex'] == 'male').sum()\n",
    "\n",
    "female = (df['Sex'] == 'female').sum()\n",
    "\n",
    "print(\"De acordo com estes dados o titanic tinha %d pessoas do sexo masculino e %d do sexo feminino.\" % (male, female))"
   ]
  },
  {
   "cell_type": "markdown",
   "metadata": {},
   "source": [
    "### Segue um gráfico com a representação dos dois sexos"
   ]
  },
  {
   "cell_type": "code",
   "execution_count": 56,
   "metadata": {},
   "outputs": [
    {
     "data": {
      "text/plain": [
       "([<matplotlib.patches.Wedge at 0x1a60c063128>,\n",
       "  <matplotlib.patches.Wedge at 0x1a60c063b70>],\n",
       " [Text(-0.255564,-1.0699,'Homens'), Text(0.255564,1.0699,'Mulheres')],\n",
       " [Text(-0.139399,-0.583582,'64.8%'), Text(0.139398,0.583582,'35.2%')])"
      ]
     },
     "execution_count": 56,
     "metadata": {},
     "output_type": "execute_result"
    },
    {
     "data": {
      "image/png": "[encoded data removed]",
      "text/plain": [
       "<matplotlib.figure.Figure at 0x1a60c02e9e8>"
      ]
     },
     "metadata": {},
     "output_type": "display_data"
    }
   ],
   "source": [
    "# Data to plot\n",
    "labels = 'Homens', 'Mulheres'\n",
    "sizes = [male, female]\n",
    "colors = ['lightcoral', 'lightskyblue']\n",
    " \n",
    "# Plot\n",
    "plt.pie(sizes, labels=labels, colors=colors,\n",
    "        autopct='%1.1f%%', shadow=True, startangle=140)"
   ]
  },
  {
   "cell_type": "markdown",
   "metadata": {},
   "source": [
    "Vemos que há mais homens que mulheres no navio."
   ]
  },
  {
   "cell_type": "markdown",
   "metadata": {},
   "source": [
    "## 2 - Qual a media de idade dos homens e das mulheres?"
   ]
  },
  {
   "cell_type": "code",
   "execution_count": 57,
   "metadata": {},
   "outputs": [
    {
     "name": "stdout",
     "output_type": "stream",
     "text": [
      "A média de idade dos homens no Titanic é de 30 anos e das mulheres é de 28 anos.\n"
     ]
    }
   ],
   "source": [
    "# Formando novos dataframes a partir do sexo\n",
    "male_df = df.loc[df['Sex'] == 'male']\n",
    "female_df = df.loc[df['Sex'] == 'female']\n",
    "\n",
    "# Calulando as medias dos dois grupos\n",
    "media_male = math.floor(male_df['Age'].sum() / male)\n",
    "media_female = math.floor(female_df['Age'].sum() / female)\n",
    "\n",
    "print(\"A média de idade dos homens no Titanic é de %d anos e das mulheres é de %d anos.\" % (media_male, media_female))"
   ]
  },
  {
   "cell_type": "markdown",
   "metadata": {},
   "source": [
    "As mulheres são mais novas que os homens!"
   ]
  },
  {
   "cell_type": "markdown",
   "metadata": {},
   "source": [
    "Vamos verificar agora a distribuição entre as classes socioeconomicas do Titanic\n",
    "\n",
    "## 3 - Qual a classe que tem mais ingressantes?"
   ]
  },
  {
   "cell_type": "code",
   "execution_count": 58,
   "metadata": {},
   "outputs": [
    {
     "name": "stdout",
     "output_type": "stream",
     "text": [
      "A primeira classe tinha 216 passageiros, a segunda 184 e por fim a terceira 491\n"
     ]
    }
   ],
   "source": [
    "firstClass  = df.loc[df['Pclass'] == 1]\n",
    "secondClass = df.loc[df['Pclass'] == 2]\n",
    "thirdClass  = df.loc[df['Pclass'] == 3]\n",
    "\n",
    "print(\"A primeira classe tinha %d passageiros, a segunda %d e por fim a terceira %d\" % (len(firstClass), len(secondClass), len(thirdClass)))"
   ]
  },
  {
   "cell_type": "markdown",
   "metadata": {},
   "source": [
    "### Representação em gráfico das classes"
   ]
  },
  {
   "cell_type": "code",
   "execution_count": 59,
   "metadata": {},
   "outputs": [
    {
     "data": {
      "text/plain": [
       "([<matplotlib.patches.Wedge at 0x1a60c0af3c8>,\n",
       "  <matplotlib.patches.Wedge at 0x1a60c0afe10>,\n",
       "  <matplotlib.patches.Wedge at 0x1a60c0b78d0>],\n",
       " [Text(-1.09779,-0.0697663,'Classe A'),\n",
       "  Text(-0.106492,-1.09483,'Classe B'),\n",
       "  Text(0.983974,0.849586,'Classe C')],\n",
       " [Text(-0.598792,-0.0380544,'24.2%'),\n",
       "  Text(-0.0580865,-0.597182,'20.7%'),\n",
       "  Text(0.605522,0.522822,'55.1%')])"
      ]
     },
     "execution_count": 59,
     "metadata": {},
     "output_type": "execute_result"
    },
    {
     "data": {
      "image/png": "[encoded data removed]",
      "text/plain": [
       "<matplotlib.figure.Figure at 0x1a60bdf2668>"
      ]
     },
     "metadata": {},
     "output_type": "display_data"
    }
   ],
   "source": [
    "# Data to plot\n",
    "labels = 'Classe A', 'Classe B', 'Classe C'\n",
    "sizes = [len(firstClass), len(secondClass), len(thirdClass)]\n",
    "colors = ['red', 'green', 'gray']\n",
    "explode = (0, 0, 0.2)\n",
    " \n",
    "# Plot\n",
    "plt.pie(sizes, explode = explode, labels=labels, colors=colors,\n",
    "        autopct='%1.1f%%', shadow=True, startangle=140)"
   ]
  },
  {
   "cell_type": "markdown",
   "metadata": {},
   "source": [
    "A classe mais ecônomica, foi a mais populada\n",
    "\n",
    "## 4 - Qual é o preço do ticket mais caro e do mais barato?"
   ]
  },
  {
   "cell_type": "code",
   "execution_count": 60,
   "metadata": {},
   "outputs": [
    {
     "name": "stdout",
     "output_type": "stream",
     "text": [
      "A tarifa mais cara foi de $512 e a mais barata de $4 dólares\n"
     ]
    }
   ],
   "source": [
    "highestFare = df['Fare'].max()\n",
    "minimumFare = df['Fare'].min()\n",
    "\n",
    "print('A tarifa mais cara foi de $%d e a mais barata de $%d dólares' % (highestFare, minimumFare))"
   ]
  },
  {
   "cell_type": "markdown",
   "metadata": {},
   "source": [
    "Vamos analisar agora a questão de sobrevivência, quais foram os fatores que mais fizeram os tripulantes sobreviver\n",
    "\n",
    "## 5 - Quais os fatores que mais fizeram as pessoas sobreviverem?\n",
    "\n",
    "### 5.1 - Verificando pela classe:"
   ]
  },
  {
   "cell_type": "code",
   "execution_count": 61,
   "metadata": {},
   "outputs": [
    {
     "data": {
      "image/png": "[encoded data removed]",
      "text/plain": [
       "<matplotlib.figure.Figure at 0x1a60bcbf668>"
      ]
     },
     "metadata": {},
     "output_type": "display_data"
    }
   ],
   "source": [
    "\n",
    "firstClassSurv = df.loc[(df['Pclass'] == 1) & df['Survived'] == 1]\n",
    "secondClassSurv = df.loc[(df['Pclass'] == 2) & df['Survived'] == 1]\n",
    "thirdClassSurv = df.loc[(df['Pclass'] == 3) & df['Survived'] == 1]\n",
    "\n",
    "locations = [1, 2, 3]\n",
    "heights = [len(firstClassSurv), len(secondClassSurv), len(thirdClassSurv)]\n",
    "labels = ['1ª Classe', '2ª Classe', '3ª Classe']\n",
    "plt.bar(locations, heights, tick_label=labels)\n",
    "plt.title('Sobreviventes por classe')\n",
    "plt.xlabel('Classes de passageiros')\n",
    "plt.ylabel('Sobreviventes');"
   ]
  },
  {
   "cell_type": "markdown",
   "metadata": {},
   "source": [
    "Podemos verificar que o fato do passageiro ser da primeira classe ajudou na sua sobrevivência, \n",
    "\n",
    "Porem a segunda classe não manteve esta lógica, pois a terceira teve mais sobreviventes\n",
    "\n",
    "Será que isso está correto? Vamos comparar com o total de tripulantes de cada classe"
   ]
  },
  {
   "cell_type": "code",
   "execution_count": 62,
   "metadata": {},
   "outputs": [
    {
     "data": {
      "text/plain": [
       "<matplotlib.legend.Legend at 0x1a60c02e668>"
      ]
     },
     "execution_count": 62,
     "metadata": {},
     "output_type": "execute_result"
    },
    {
     "data": {
      "image/png": "[encoded data removed]",
      "text/plain": [
       "<matplotlib.figure.Figure at 0x1a60c02e7f0>"
      ]
     },
     "metadata": {},
     "output_type": "display_data"
    }
   ],
   "source": [
    "locations = [1, 2, 3]\n",
    "\n",
    "classes = [len(firstClass), len(secondClass), len(thirdClass)]\n",
    "plt.bar(locations, classes, tick_label=labels, label='Total')\n",
    "\n",
    "classes = [len(firstClassSurv), len(secondClassSurv), len(thirdClassSurv)]\n",
    "labels = ['1ª Classe', '2ª Classe', '3ª Classe']\n",
    "\n",
    "plt.bar(locations, classes, tick_label=labels, label='Sobreviventes')\n",
    "plt.title('Sobreviventes x Passageiros por classe')\n",
    "plt.xlabel('Passageiros por classe e sobreviventes')\n",
    "plt.ylabel('Sobreviventes')\n",
    "plt.legend()"
   ]
  },
  {
   "cell_type": "code",
   "execution_count": 77,
   "metadata": {},
   "outputs": [
    {
     "data": {
      "text/plain": [
       "([<matplotlib.patches.Wedge at 0x1a60bb73eb8>,\n",
       "  <matplotlib.patches.Wedge at 0x1a60c266d30>,\n",
       "  <matplotlib.patches.Wedge at 0x1a60c248518>],\n",
       " [Text(-0.937111,-0.57604,'Sobrevientes A'),\n",
       "  Text(0.942363,-0.567408,'Sobrevientes B'),\n",
       "  Text(0.240549,1.07338,'Sobrevientes C')],\n",
       " [Text(-0.511152,-0.314204,'39.8%'),\n",
       "  Text(0.514016,-0.309495,'25.4%'),\n",
       "  Text(0.131209,0.585478,'34.8%')])"
      ]
     },
     "execution_count": 77,
     "metadata": {},
     "output_type": "execute_result"
    },
    {
     "data": {
      "image/png": "[encoded data removed]",
      "text/plain": [
       "<matplotlib.figure.Figure at 0x1a60c600da0>"
      ]
     },
     "metadata": {},
     "output_type": "display_data"
    }
   ],
   "source": [
    "# Data to plot\n",
    "labels = 'Sobrevientes A', 'Sobrevientes B', 'Sobrevientes C'\n",
    "sizes = [len(firstClassSurv), len(secondClassSurv), len(thirdClassSurv)]\n",
    "colors = ['pink', 'cyan', 'brown']\n",
    "explode = (0,0,0)\n",
    " \n",
    "# Plot\n",
    "plt.pie(sizes, explode = explode, labels=labels, colors=colors,\n",
    "        autopct='%1.1f%%', shadow=True, startangle=140)"
   ]
  },
  {
   "cell_type": "markdown",
   "metadata": {},
   "source": [
    "Temos uma surpresa, na verdade por questões de proporção a segunda classe sobreviveu mais sim que a terceira,\n",
    "\n",
    "Apenas por sua quantidade maior a terceira tem mais sobreviventes,\n",
    "\n",
    "Agora podemos afirmar que a classe determinou sim quem sobreviveu!\n",
    "\n",
    "## 5.2 - O local onde embarcaram pode ter influenciado na sobrevivência?"
   ]
  },
  {
   "cell_type": "code",
   "execution_count": 63,
   "metadata": {},
   "outputs": [
    {
     "data": {
      "image/png": "[encoded data removed]",
      "text/plain": [
       "<matplotlib.figure.Figure at 0x1a60bbac940>"
      ]
     },
     "metadata": {},
     "output_type": "display_data"
    }
   ],
   "source": [
    "cherbourgSurv = df.loc[(df['Embarked'] == 'C') & df['Survived'] == 1]\n",
    "queenstownSurv = df.loc[(df['Embarked'] == 'Q') & df['Survived'] == 1]\n",
    "southamptonSurv = df.loc[(df['Embarked'] == 'S') & df['Survived'] == 1]\n",
    "\n",
    "locations = [1, 2, 3]\n",
    "heights = [len(cherbourgSurv), len(queenstownSurv), len(southamptonSurv)]\n",
    "labels = ['Cherbourg', 'Queenstown', 'Southampton']\n",
    "plt.bar(locations, heights, tick_label=labels)\n",
    "plt.title('Sobreviventes por cidade de embarque')\n",
    "plt.xlabel('Cidade de embarque')\n",
    "plt.ylabel('Sobreviventes');"
   ]
  },
  {
   "cell_type": "markdown",
   "metadata": {},
   "source": [
    "Agora diferente dos outros, uma grande disparidade dos sobreviventes foi de Southampton,\n",
    "\n",
    "Vamos ver se há relação com o número de pessoas que embarcaram nos locais:"
   ]
  },
  {
   "cell_type": "code",
   "execution_count": 64,
   "metadata": {},
   "outputs": [
    {
     "data": {
      "text/plain": [
       "<matplotlib.legend.Legend at 0x1a60be73940>"
      ]
     },
     "execution_count": 64,
     "metadata": {},
     "output_type": "execute_result"
    },
    {
     "data": {
      "image/png": "[encoded data removed]",
      "text/plain": [
       "<matplotlib.figure.Figure at 0x1a60bd6ca58>"
      ]
     },
     "metadata": {},
     "output_type": "display_data"
    }
   ],
   "source": [
    "cherbourg = df.loc[(df['Embarked'] == 'C')]\n",
    "queenstown = df.loc[(df['Embarked'] == 'Q')]\n",
    "southampton = df.loc[(df['Embarked'] == 'S')]\n",
    "\n",
    "locations = [1, 2, 3]\n",
    "\n",
    "classes = [len(cherbourg), len(queenstown), len(southampton)]\n",
    "plt.bar(locations, classes, tick_label=labels, label='Total')\n",
    "\n",
    "classes = [len(cherbourgSurv), len(queenstownSurv), len(southamptonSurv)]\n",
    "labels = ['Cherbourg', 'Queenstown', 'Southampton']\n",
    "\n",
    "plt.bar(locations, classes, tick_label=labels, label='Sobreviventes')\n",
    "plt.title('Total de passageiros x Sobreviventes por cidade de embarque')\n",
    "plt.xlabel('Cidade de embarque')\n",
    "plt.ylabel('Sobreviventes')\n",
    "plt.legend()"
   ]
  },
  {
   "cell_type": "markdown",
   "metadata": {},
   "source": [
    "Podemos ver que sim, a quantidade de embarque em Southampton foi maior!\n",
    "\n",
    "Vamos verificar a distribuição de classes na região de Southampton: "
   ]
  },
  {
   "cell_type": "code",
   "execution_count": 65,
   "metadata": {},
   "outputs": [
    {
     "data": {
      "image/png": "[encoded data removed]",
      "text/plain": [
       "<matplotlib.figure.Figure at 0x1a60bb90c88>"
      ]
     },
     "metadata": {},
     "output_type": "display_data"
    }
   ],
   "source": [
    "firstClassSouthAmpton = df.loc[(df['Pclass'] == 1) & (df['Embarked'] == 'S')]\n",
    "secondClassSouthAmpton = df.loc[(df['Pclass'] == 2) & (df['Embarked'] == 'S')]\n",
    "thirdClassSouthAmpton = df.loc[(df['Pclass'] == 3) & (df['Embarked'] == 'S')]\n",
    "\n",
    "locations = [1, 2, 3]\n",
    "heights = [len(firstClassSouthAmpton), len(secondClassSouthAmpton), len(thirdClassSouthAmpton)]\n",
    "labels = ['1ª Classe', '2ª Classe', '3ª Classe']\n",
    "plt.bar(locations, heights, tick_label=labels)\n",
    "plt.title('Quantidade de pessoas em cada classe de Southampton')\n",
    "plt.xlabel('Classes de passageiros de Southampton')\n",
    "plt.ylabel('Sobreviventes');"
   ]
  },
  {
   "cell_type": "markdown",
   "metadata": {},
   "source": [
    "Como a classe 3 tem mais população e sobreviveram menos, proporcionalmente, as pessoas que embarcaram em Southampton, temos uma relação de classe x sobrevivência, tambem entre cidades\n",
    "\n",
    "Só falta verificar a proprorção de sobreviventes entre as classes de Southampton, vamos ver agora:"
   ]
  },
  {
   "cell_type": "code",
   "execution_count": 66,
   "metadata": {},
   "outputs": [
    {
     "data": {
      "text/plain": [
       "<matplotlib.legend.Legend at 0x1a60be6e7f0>"
      ]
     },
     "execution_count": 66,
     "metadata": {},
     "output_type": "execute_result"
    },
    {
     "data": {
      "image/png": "[encoded data removed]",
      "text/plain": [
       "<matplotlib.figure.Figure at 0x1a60bbac518>"
      ]
     },
     "metadata": {},
     "output_type": "display_data"
    }
   ],
   "source": [
    "firstClassSouthAmptonSurv = df.loc[(df['Pclass'] == 1) & (df['Embarked'] == 'S') & df['Survived'] == 1]\n",
    "secondClassSouthAmptonSurv = df.loc[(df['Pclass'] == 2) & (df['Embarked'] == 'S') & df['Survived'] == 1]\n",
    "thirdClassSouthAmptonSurv = df.loc[(df['Pclass'] == 3) & (df['Embarked'] == 'S') & df['Survived'] == 1]\n",
    "\n",
    "locations = [1, 2, 3]\n",
    "\n",
    "heights = [len(firstClassSouthAmpton), len(secondClassSouthAmpton), len(thirdClassSouthAmpton)]\n",
    "plt.bar(locations, heights, tick_label=labels, label='Total')\n",
    "\n",
    "classes = [len(firstClassSouthAmptonSurv), len(secondClassSouthAmptonSurv), len(thirdClassSouthAmptonSurv)]\n",
    "labels = ['1ª Classe', '2ª Classe', '3ª Classe']\n",
    "\n",
    "plt.bar(locations, classes, tick_label=labels, label='Sobreviventes')\n",
    "plt.title('Sobreviventes x Passageiros de Southampton separados por classe')\n",
    "plt.xlabel('Sobreviventes')\n",
    "plt.ylabel('Total tripulantes')\n",
    "plt.legend()"
   ]
  },
  {
   "cell_type": "markdown",
   "metadata": {},
   "source": [
    "Em Southampton é claro para nós que a sobrevivência foi influenciada pela classe\n",
    "\n",
    "Agora trocando de fator, sabemos que a ordem é salvar primeiro os mais novos, mulheres e idosos, será que a idade influenciou na sobrevivência?\n",
    "\n",
    "## 5.3  - A idade dos passageiros influenciou na sobrevivência deles?\n",
    "\n",
    "Primeiro vamos criar grupos de idade, com os seguinte grupos:\n",
    "\n",
    "Criança = 0 - 14 anos\n",
    "\n",
    "Jovens e adultos = 15 - 64 anos\n",
    "\n",
    "Idosos = mais de 65 anos"
   ]
  },
  {
   "cell_type": "code",
   "execution_count": 67,
   "metadata": {},
   "outputs": [
    {
     "data": {
      "image/png": "[encoded data removed]",
      "text/plain": [
       "<matplotlib.figure.Figure at 0x1a60bbb4ac8>"
      ]
     },
     "metadata": {},
     "output_type": "display_data"
    }
   ],
   "source": [
    "youngTotal     = df.loc[(df['Age'] <= 14)]\n",
    "middleageTotal = df.loc[(df['Age'] > 14) & (df['Age'] < 65)]\n",
    "oldTotal       = df.loc[(df['Age'] >= 65)]\n",
    "\n",
    "locations = [1, 2, 3]\n",
    "heights = [len(youngTotal), len(middleageTotal), len(oldTotal)]\n",
    "labels = ['Crianças', 'Adolescentes e adultos', 'Idosos']\n",
    "\n",
    "plt.bar(locations, heights, tick_label=labels)\n",
    "plt.title('Quantidade de pessoas por faixa etária')\n",
    "plt.xlabel('Faixa etária')\n",
    "plt.ylabel('Total');"
   ]
  },
  {
   "cell_type": "markdown",
   "metadata": {},
   "source": [
    "Com os grupos divididos podemos ver que a maioria são adolescentes e adultos,\n",
    "\n",
    "E agora vamos comparar a questão da sobrevivência:"
   ]
  },
  {
   "cell_type": "code",
   "execution_count": 68,
   "metadata": {},
   "outputs": [
    {
     "data": {
      "text/plain": [
       "<matplotlib.legend.Legend at 0x1a60a8ce470>"
      ]
     },
     "execution_count": 68,
     "metadata": {},
     "output_type": "execute_result"
    },
    {
     "data": {
      "image/png": "[encoded data removed]",
      "text/plain": [
       "<matplotlib.figure.Figure at 0x1a60bdb1ef0>"
      ]
     },
     "metadata": {},
     "output_type": "display_data"
    }
   ],
   "source": [
    "youngTotalSurv     = df.loc[(df['Age'] <= 14) & df['Survived'] == 1]\n",
    "middleageTotalSurv = df.loc[(df['Age'] > 14) & (df['Age'] < 65) & df['Survived'] == 1]\n",
    "oldTotalSurv       = df.loc[(df['Age'] >= 65) & df['Survived'] == 1]\n",
    "\n",
    "\n",
    "locations = [1, 2, 3]\n",
    "\n",
    "heights = [len(youngTotal), len(middleageTotal), len(oldTotal)]\n",
    "plt.bar(locations, heights, tick_label=labels, label='Total')\n",
    "\n",
    "classes = [len(youngTotalSurv), len(middleageTotalSurv), len(oldTotalSurv)]\n",
    "labels = ['Crianças', 'Adolescentes e adultos', 'Idosos']\n",
    "\n",
    "plt.bar(locations, classes, tick_label=labels, label='Sobreviventes')\n",
    "plt.title('Sobreviventes x Passageiros por faixa etária')\n",
    "plt.xlabel('Faixa etária')\n",
    "plt.ylabel('Total tripulantes de acordo com faixa etária')\n",
    "plt.legend()"
   ]
  },
  {
   "cell_type": "markdown",
   "metadata": {},
   "source": [
    "As crianças sobreviveram mais do que a metade de sua quantidade total, e os idosos apenas 1 de 10 presentes nos dados.\n",
    "\n",
    "Pelo menos as crianças foram respeitadas a prioridade\n",
    "\n",
    "## 5.4 - para finalizar, o sexo influenciou na sobrevivência dos tripulantes?"
   ]
  },
  {
   "cell_type": "code",
   "execution_count": 69,
   "metadata": {},
   "outputs": [
    {
     "data": {
      "image/png": "[encoded data removed]",
      "text/plain": [
       "<matplotlib.figure.Figure at 0x1a60aa6ddd8>"
      ]
     },
     "metadata": {},
     "output_type": "display_data"
    }
   ],
   "source": [
    "locations = [1, 2]\n",
    "heights = [len(male_df), len(female_df)]\n",
    "labels = ['Homens', 'Mulheres']\n",
    "\n",
    "plt.bar(locations, heights, tick_label=labels, label='Total')\n",
    "\n",
    "maleSurv = df.loc[(df['Sex'] == 'male') & (df['Survived'] == 1)]\n",
    "femaleSurv = df.loc[(df['Sex'] == 'female')  & (df['Survived'] == 1)]\n",
    "\n",
    "classes = [len(maleSurv), len(femaleSurv)]\n",
    "\n",
    "plt.bar(locations, classes, tick_label=labels, label='Sobreviventes')\n",
    "\n",
    "plt.title('Quantidade de pessoas por sexo')\n",
    "plt.xlabel('Sexo')\n",
    "plt.ylabel('Total');"
   ]
  },
  {
   "cell_type": "markdown",
   "metadata": {},
   "source": [
    "As mulheres foram priorizadas!\n",
    "\n",
    "Além de em quantidade foi maior que a dos homens, a proporção tambem foi gritantemente maior!"
   ]
  },
  {
   "cell_type": "markdown",
   "metadata": {},
   "source": [
    "## 6 - O preço da passagem é influenciado pela idade?"
   ]
  },
  {
   "cell_type": "code",
   "execution_count": 71,
   "metadata": {},
   "outputs": [
    {
     "data": {
      "image/png": "[encoded data removed]",
      "text/plain": [
       "<matplotlib.figure.Figure at 0x1a60c50c400>"
      ]
     },
     "metadata": {},
     "output_type": "display_data"
    }
   ],
   "source": [
    "df.plot(kind='scatter', x='Age', y='Fare');"
   ]
  },
  {
   "cell_type": "code",
   "execution_count": 73,
   "metadata": {},
   "outputs": [],
   "source": [
    "## 7 - O preço da passagem é influenciado pela classe?"
   ]
  },
  {
   "cell_type": "code",
   "execution_count": 74,
   "metadata": {},
   "outputs": [
    {
     "data": {
      "image/png": "[encoded data removed]",
      "text/plain": [
       "<matplotlib.figure.Figure at 0x1a60c535518>"
      ]
     },
     "metadata": {},
     "output_type": "display_data"
    }
   ],
   "source": [
    "df.plot(kind='scatter', x='Pclass', y='Fare');"
   ]
  },
  {
   "cell_type": "markdown",
   "metadata": {},
   "source": [
    "## Conclusão:\n",
    "\n",
    "Observamos primeiramente a maioria dos passageiros ser compostas por mulheres com 64.8% e os ficaram com 35.2%\n",
    "\n",
    "Depois vimos que a media de idade dos homens é de 30 anos, e a de mulheres 28.\n",
    "\n",
    "A população das classes foi distribuida da seguinte maneira a primeira classe com 216 (24.2%) passageiros, a segunda 184 (20.7%) e por fim a terceira 491 (55.1%).\n",
    "\n",
    "Analisamos tambem o preço da maior e da menor tarifa que foram respectivamente de 512 e 4 dólares.\n",
    "\n",
    "Podemos concluir que o fator sobreviência que observamos, foi altamente influenciado pela classe do passageiro, ou seja, quanto mais alta a classe mais chance dele sobreviver.\n",
    "\n",
    "- 1ª classe total: 216 - Sobreviventes 39.8%\n",
    "- 2ª classe total: 184 - Sobreviventes 25.4%\n",
    "- 3ª classe total: 491 - Sobreviventes 34.8%\n",
    "\n",
    "A parte boa é que crianças foram priorizadas sim no salvamento, proporcionalmente sobreviveram mais que qualquer outro grupo e também as mulheres, que proporcionalmente e em quantidade sobreviveram mais que os homens.\n",
    "\n",
    "Por fim vemos que a passagem não é influenciada pela idade, porém sim pela classe, onde a 1ª tem as passagens mais caras.\n",
    "\n",
    "### Limitações\n",
    "\n",
    "Os dados faltantes da coluna *Age*, que possuia dados nuloes e *Fare* que possuia dados zerados em algumas posições, e por isso prejudicaria a análise.\n",
    " \n",
    "#### Medidas tomadas:\n",
    "\n",
    "- Age: Foi calculada a média da coluna, e por fim substituido os valores nulos pelo valor da média.\n",
    "- Fare: Foi calculada a média das taxas, e assim os dados zerados foram substituídos pela mesma.\n"
   ]
  }
 ],
 "metadata": {
  "kernelspec": {
   "display_name": "Python 3",
   "language": "python",
   "name": "python3"
  },
  "language_info": {
   "codemirror_mode": {
    "name": "ipython",
    "version": 3
   },
   "file_extension": ".py",
   "mimetype": "text/x-python",
   "name": "python",
   "nbconvert_exporter": "python",
   "pygments_lexer": "ipython3",
   "version": "3.6.4"
  }
 },
 "nbformat": 4,
 "nbformat_minor": 2
}
